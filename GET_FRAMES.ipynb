{
 "cells": [
  {
   "cell_type": "code",
   "execution_count": 4,
   "id": "4636e65c",
   "metadata": {},
   "outputs": [],
   "source": [
    "%%capture\n",
    "# Install PyTorch\n",
    "%pip install torch torchvision torchaudio\n",
    "\n",
    "# Install additional dependencies\n",
    "%pip install matplotlib pandas pillow tqdm\n",
    "\n",
    "# Install package for creating visually distinct colormaps\n",
    "%pip install distinctipy\n",
    "\n",
    "# Install utility packages\n",
    "%pip install cjm_psl_utils cjm_pil_utils cjm_pytorch_utils cjm_torchvision_tfms"
   ]
  },
  {
   "cell_type": "code",
   "execution_count": 1,
   "id": "9ed4c9b4",
   "metadata": {},
   "outputs": [],
   "source": [
    "# Import Python Standard Library dependencies\n",
    "from functools import partial\n",
    "from pathlib import Path\n",
    "\n",
    "# Import utility functions\n",
    "from cjm_pil_utils.core import get_img_files\n",
    "from cjm_psl_utils.core import download_file, file_extract\n",
    "from cjm_pytorch_utils.core import tensor_to_pil\n",
    "from cjm_torchvision_tfms.core import ResizeMax, PadSquare, CustomRandomIoUCrop\n",
    "\n",
    "# Import the distinctipy module\n",
    "from distinctipy import distinctipy\n",
    "\n",
    "# Import matplotlib for creating plots\n",
    "import matplotlib.pyplot as plt\n",
    "\n",
    "# Import numpy\n",
    "import numpy as np\n",
    "\n",
    "# Import the pandas package\n",
    "import pandas as pd\n",
    "\n",
    "# Do not truncate the contents of cells and display all rows and columns\n",
    "pd.set_option('max_colwidth', None, 'display.max_rows', None, 'display.max_columns', None)\n",
    "\n",
    "# Import PIL for image manipulation\n",
    "from PIL import Image, ImageDraw\n",
    "\n",
    "# Import PyTorch dependencies\n",
    "import torch\n",
    "from torch.utils.data import Dataset, DataLoader\n",
    "\n",
    "# Import torchvision dependencies\n",
    "import torchvision\n",
    "torchvision.disable_beta_transforms_warning()\n",
    "from torchvision.tv_tensors import BoundingBoxes, Mask\n",
    "from torchvision.utils import draw_bounding_boxes, draw_segmentation_masks\n",
    "import torchvision.transforms.v2  as transforms\n",
    "\n",
    "# Import tqdm for progress bar\n",
    "from tqdm.auto import tqdm\n",
    "\n",
    "import cv2\n",
    "import os\n",
    "import shutil"
   ]
  },
  {
   "cell_type": "code",
   "execution_count": 8,
   "id": "f83989a1",
   "metadata": {},
   "outputs": [
    {
     "name": "stdout",
     "output_type": "stream",
     "text": [
      "['2025-05-09_11-08-09.mp4', 'Captures', 'desktop.ini', 'NVIDIA', 'Take1.mp4', 'Take2.mp4', 'test 13.mp4', 'test 6.mp4', 'test 7.mp4', 'test 8 with z=2.mp4', 'test 9 with more pitch.mp4', 'Test1.mp4', 'test12.mp4', 'Test2.mp4', 'Test3 with ViewDistance 3.mp4', 'Test4 with ViewDistance 2.mp4', 'test5.mp4', 'window capture.mp4']\n"
     ]
    }
   ],
   "source": [
    "video_folder = r\"C:\\Users\\UserAdmin\\Videos\"  # get path for video recodings\n",
    "files = os.listdir(video_folder)\n",
    "\n",
    "print(files)  # Display files in folder\n"
   ]
  },
  {
   "cell_type": "code",
   "execution_count": 9,
   "id": "cfbb3038",
   "metadata": {},
   "outputs": [
    {
     "name": "stdout",
     "output_type": "stream",
     "text": [
      "Folder has been cleared and recreated.\n"
     ]
    }
   ],
   "source": [
    "output_folder = r\"C:\\Users\\UserAdmin\\Videos\\frames\"\n",
    "\n",
    "# Delete the entire folder if it exists\n",
    "if os.path.exists(output_folder):\n",
    "    shutil.rmtree(output_folder)\n",
    "\n",
    "os.makedirs(output_folder)\n",
    "\n",
    "print(\"Folder has been cleared and recreated.\")\n"
   ]
  },
  {
   "cell_type": "code",
   "execution_count": 10,
   "id": "1b638ed0",
   "metadata": {},
   "outputs": [
    {
     "name": "stdout",
     "output_type": "stream",
     "text": [
      "Saving frames to: C:\\Users\\UserAdmin\\Videos\\frames\n"
     ]
    }
   ],
   "source": [
    "\n",
    "video_path = r\"C:\\Users\\UserAdmin\\Videos\\Take2.mp4\" # change the .mp4 vid name as required\n",
    "\n",
    "# Check if the folder exists, if not, create it\n",
    "if not os.path.exists(output_folder):\n",
    "    os.makedirs(output_folder)\n",
    "\n",
    "print(f\"Saving frames to: {os.path.abspath(output_folder)}\")\n",
    "\n",
    "cap = cv2.VideoCapture(video_path)\n",
    "frame_idx = 0\n",
    "\n",
    "\n",
    "while cap.isOpened():\n",
    "    ret, frame = cap.read()\n",
    "    if not ret:\n",
    "        break\n",
    "    cv2.imwrite(f\"{output_folder}/frame_{frame_idx}.jpg\", frame)\n",
    "    frame_idx += 1\n",
    "\n",
    "cap.release()\n",
    "\n"
   ]
  },
  {
   "cell_type": "code",
   "execution_count": null,
   "id": "baedf854",
   "metadata": {},
   "outputs": [],
   "source": []
  }
 ],
 "metadata": {
  "kernelspec": {
   "display_name": "Python 3",
   "language": "python",
   "name": "python3"
  },
  "language_info": {
   "codemirror_mode": {
    "name": "ipython",
    "version": 3
   },
   "file_extension": ".py",
   "mimetype": "text/x-python",
   "name": "python",
   "nbconvert_exporter": "python",
   "pygments_lexer": "ipython3",
   "version": "3.12.9"
  }
 },
 "nbformat": 4,
 "nbformat_minor": 5
}
